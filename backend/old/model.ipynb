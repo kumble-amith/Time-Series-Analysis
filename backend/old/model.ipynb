{
 "cells": [
  {
   "cell_type": "code",
   "execution_count": 1,
   "metadata": {},
   "outputs": [],
   "source": [
    "import pandas as pd"
   ]
  },
  {
   "cell_type": "code",
   "execution_count": 2,
   "metadata": {},
   "outputs": [],
   "source": [
    "df1 = pd.read_csv(\"DailyDelhiClimateTrain.csv\")\n",
    "df2 = pd.read_csv(\"DailyDelhiClimateTest.csv\")\n"
   ]
  },
  {
   "cell_type": "code",
   "execution_count": 3,
   "metadata": {},
   "outputs": [],
   "source": [
    "df = pd.concat([df1 , df2] ,axis=0)"
   ]
  },
  {
   "cell_type": "code",
   "execution_count": 4,
   "metadata": {},
   "outputs": [
    {
     "data": {
      "text/html": [
       "<div>\n",
       "<style scoped>\n",
       "    .dataframe tbody tr th:only-of-type {\n",
       "        vertical-align: middle;\n",
       "    }\n",
       "\n",
       "    .dataframe tbody tr th {\n",
       "        vertical-align: top;\n",
       "    }\n",
       "\n",
       "    .dataframe thead th {\n",
       "        text-align: right;\n",
       "    }\n",
       "</style>\n",
       "<table border=\"1\" class=\"dataframe\">\n",
       "  <thead>\n",
       "    <tr style=\"text-align: right;\">\n",
       "      <th></th>\n",
       "      <th>date</th>\n",
       "      <th>meantemp</th>\n",
       "      <th>humidity</th>\n",
       "      <th>wind_speed</th>\n",
       "      <th>meanpressure</th>\n",
       "    </tr>\n",
       "  </thead>\n",
       "  <tbody>\n",
       "    <tr>\n",
       "      <th>0</th>\n",
       "      <td>2013-01-01</td>\n",
       "      <td>10.000000</td>\n",
       "      <td>84.500000</td>\n",
       "      <td>0.000000</td>\n",
       "      <td>1015.666667</td>\n",
       "    </tr>\n",
       "    <tr>\n",
       "      <th>1</th>\n",
       "      <td>2013-01-02</td>\n",
       "      <td>7.400000</td>\n",
       "      <td>92.000000</td>\n",
       "      <td>2.980000</td>\n",
       "      <td>1017.800000</td>\n",
       "    </tr>\n",
       "    <tr>\n",
       "      <th>2</th>\n",
       "      <td>2013-01-03</td>\n",
       "      <td>7.166667</td>\n",
       "      <td>87.000000</td>\n",
       "      <td>4.633333</td>\n",
       "      <td>1018.666667</td>\n",
       "    </tr>\n",
       "    <tr>\n",
       "      <th>3</th>\n",
       "      <td>2013-01-04</td>\n",
       "      <td>8.666667</td>\n",
       "      <td>71.333333</td>\n",
       "      <td>1.233333</td>\n",
       "      <td>1017.166667</td>\n",
       "    </tr>\n",
       "    <tr>\n",
       "      <th>4</th>\n",
       "      <td>2013-01-05</td>\n",
       "      <td>6.000000</td>\n",
       "      <td>86.833333</td>\n",
       "      <td>3.700000</td>\n",
       "      <td>1016.500000</td>\n",
       "    </tr>\n",
       "  </tbody>\n",
       "</table>\n",
       "</div>"
      ],
      "text/plain": [
       "         date   meantemp   humidity  wind_speed  meanpressure\n",
       "0  2013-01-01  10.000000  84.500000    0.000000   1015.666667\n",
       "1  2013-01-02   7.400000  92.000000    2.980000   1017.800000\n",
       "2  2013-01-03   7.166667  87.000000    4.633333   1018.666667\n",
       "3  2013-01-04   8.666667  71.333333    1.233333   1017.166667\n",
       "4  2013-01-05   6.000000  86.833333    3.700000   1016.500000"
      ]
     },
     "execution_count": 4,
     "metadata": {},
     "output_type": "execute_result"
    }
   ],
   "source": [
    "df.head()"
   ]
  },
  {
   "cell_type": "code",
   "execution_count": 8,
   "metadata": {},
   "outputs": [],
   "source": [
    "df['MA_for_250_days'] = df['humidity'].rolling(100).mean()"
   ]
  },
  {
   "cell_type": "code",
   "execution_count": 10,
   "metadata": {},
   "outputs": [
    {
     "data": {
      "text/plain": [
       "95          NaN\n",
       "96          NaN\n",
       "97          NaN\n",
       "98          NaN\n",
       "99    64.185071\n",
       "Name: MA_for_250_days, dtype: float64"
      ]
     },
     "execution_count": 10,
     "metadata": {},
     "output_type": "execute_result"
    }
   ],
   "source": [
    "df['MA_for_250_days'][0:100].tail()"
   ]
  },
  {
   "cell_type": "code",
   "execution_count": 12,
   "metadata": {},
   "outputs": [
    {
     "data": {
      "text/html": [
       "<div>\n",
       "<style scoped>\n",
       "    .dataframe tbody tr th:only-of-type {\n",
       "        vertical-align: middle;\n",
       "    }\n",
       "\n",
       "    .dataframe tbody tr th {\n",
       "        vertical-align: top;\n",
       "    }\n",
       "\n",
       "    .dataframe thead th {\n",
       "        text-align: right;\n",
       "    }\n",
       "</style>\n",
       "<table border=\"1\" class=\"dataframe\">\n",
       "  <thead>\n",
       "    <tr style=\"text-align: right;\">\n",
       "      <th></th>\n",
       "      <th>humidity</th>\n",
       "      <th>percentage_change_cp</th>\n",
       "    </tr>\n",
       "  </thead>\n",
       "  <tbody>\n",
       "    <tr>\n",
       "      <th>0</th>\n",
       "      <td>84.500000</td>\n",
       "      <td>NaN</td>\n",
       "    </tr>\n",
       "    <tr>\n",
       "      <th>1</th>\n",
       "      <td>92.000000</td>\n",
       "      <td>0.088757</td>\n",
       "    </tr>\n",
       "    <tr>\n",
       "      <th>2</th>\n",
       "      <td>87.000000</td>\n",
       "      <td>-0.054348</td>\n",
       "    </tr>\n",
       "    <tr>\n",
       "      <th>3</th>\n",
       "      <td>71.333333</td>\n",
       "      <td>-0.180077</td>\n",
       "    </tr>\n",
       "    <tr>\n",
       "      <th>4</th>\n",
       "      <td>86.833333</td>\n",
       "      <td>0.217290</td>\n",
       "    </tr>\n",
       "  </tbody>\n",
       "</table>\n",
       "</div>"
      ],
      "text/plain": [
       "    humidity  percentage_change_cp\n",
       "0  84.500000                   NaN\n",
       "1  92.000000              0.088757\n",
       "2  87.000000             -0.054348\n",
       "3  71.333333             -0.180077\n",
       "4  86.833333              0.217290"
      ]
     },
     "execution_count": 12,
     "metadata": {},
     "output_type": "execute_result"
    }
   ],
   "source": [
    "df['percentage_change_cp'] = df['humidity'].pct_change()\n",
    "df[['humidity','percentage_change_cp']].head()"
   ]
  },
  {
   "cell_type": "code",
   "execution_count": 13,
   "metadata": {},
   "outputs": [],
   "source": [
    "humidity = df[['humidity']]"
   ]
  },
  {
   "cell_type": "code",
   "execution_count": 15,
   "metadata": {},
   "outputs": [
    {
     "data": {
      "text/plain": [
       "(array([100.]), array([13.42857143]))"
      ]
     },
     "execution_count": 15,
     "metadata": {},
     "output_type": "execute_result"
    }
   ],
   "source": [
    "max(humidity.values),min(humidity.values) "
   ]
  },
  {
   "cell_type": "code",
   "execution_count": 17,
   "metadata": {},
   "outputs": [
    {
     "data": {
      "text/plain": [
       "array([[0.8209571 ],\n",
       "       [0.90759076],\n",
       "       [0.84983498],\n",
       "       ...,\n",
       "       [0.31732673],\n",
       "       [0.16254125],\n",
       "       [0.15841584]])"
      ]
     },
     "execution_count": 17,
     "metadata": {},
     "output_type": "execute_result"
    }
   ],
   "source": [
    "from sklearn.preprocessing import MinMaxScaler\n",
    "\n",
    "scaler = MinMaxScaler(feature_range=(0,1))\n",
    "scaled_data = scaler.fit_transform(humidity)\n",
    "scaled_data"
   ]
  },
  {
   "cell_type": "code",
   "execution_count": 18,
   "metadata": {},
   "outputs": [
    {
     "data": {
      "text/plain": [
       "1576"
      ]
     },
     "execution_count": 18,
     "metadata": {},
     "output_type": "execute_result"
    }
   ],
   "source": [
    "len(scaled_data)"
   ]
  },
  {
   "cell_type": "code",
   "execution_count": 19,
   "metadata": {},
   "outputs": [],
   "source": [
    "x_data = []\n",
    "y_data = []\n",
    "\n",
    "for i in range(100, len(scaled_data)):\n",
    "    x_data.append(scaled_data[i-100:i])\n",
    "    y_data.append(scaled_data[i])\n",
    "    \n",
    "import numpy as np\n",
    "x_data, y_data = np.array(x_data), np.array(y_data)"
   ]
  },
  {
   "cell_type": "code",
   "execution_count": 20,
   "metadata": {},
   "outputs": [],
   "source": [
    "splitting_len = int(len(x_data)*0.7)\n",
    "x_train = x_data[:splitting_len]\n",
    "y_train = y_data[:splitting_len]\n",
    "\n",
    "x_test = x_data[splitting_len:]\n",
    "y_test = y_data[splitting_len:]"
   ]
  },
  {
   "cell_type": "code",
   "execution_count": 21,
   "metadata": {},
   "outputs": [],
   "source": [
    "from keras.models import Sequential\n",
    "from keras.layers import Dense, LSTM"
   ]
  },
  {
   "cell_type": "code",
   "execution_count": 22,
   "metadata": {},
   "outputs": [
    {
     "name": "stderr",
     "output_type": "stream",
     "text": [
      "d:\\Installation\\Python\\Lib\\site-packages\\keras\\src\\layers\\rnn\\rnn.py:204: UserWarning: Do not pass an `input_shape`/`input_dim` argument to a layer. When using Sequential models, prefer using an `Input(shape)` object as the first layer in the model instead.\n",
      "  super().__init__(**kwargs)\n"
     ]
    }
   ],
   "source": [
    "model = Sequential()\n",
    "model.add(LSTM(128, return_sequences=True, input_shape=(x_train.shape[1],1)))\n",
    "model.add(LSTM(64,return_sequences=False))\n",
    "model.add(Dense(25))\n",
    "model.add(Dense(1))"
   ]
  },
  {
   "cell_type": "code",
   "execution_count": 23,
   "metadata": {},
   "outputs": [],
   "source": [
    "model.compile(optimizer='adam', loss='mean_squared_error')"
   ]
  },
  {
   "cell_type": "code",
   "execution_count": 24,
   "metadata": {},
   "outputs": [
    {
     "name": "stdout",
     "output_type": "stream",
     "text": [
      "Epoch 1/2\n",
      "\u001b[1m1033/1033\u001b[0m \u001b[32m━━━━━━━━━━━━━━━━━━━━\u001b[0m\u001b[37m\u001b[0m \u001b[1m18s\u001b[0m 16ms/step - loss: 0.0219\n",
      "Epoch 2/2\n",
      "\u001b[1m1033/1033\u001b[0m \u001b[32m━━━━━━━━━━━━━━━━━━━━\u001b[0m\u001b[37m\u001b[0m \u001b[1m16s\u001b[0m 16ms/step - loss: 0.0102\n"
     ]
    },
    {
     "data": {
      "text/plain": [
       "<keras.src.callbacks.history.History at 0x20255afbcb0>"
      ]
     },
     "execution_count": 24,
     "metadata": {},
     "output_type": "execute_result"
    }
   ],
   "source": [
    "model.fit(x_train, y_train, batch_size=1, epochs = 2)"
   ]
  },
  {
   "cell_type": "code",
   "execution_count": 25,
   "metadata": {},
   "outputs": [
    {
     "name": "stdout",
     "output_type": "stream",
     "text": [
      "\u001b[1m14/14\u001b[0m \u001b[32m━━━━━━━━━━━━━━━━━━━━\u001b[0m\u001b[37m\u001b[0m \u001b[1m1s\u001b[0m 26ms/step\n"
     ]
    }
   ],
   "source": [
    "predictions = model.predict(x_test)"
   ]
  },
  {
   "cell_type": "code",
   "execution_count": 26,
   "metadata": {},
   "outputs": [
    {
     "data": {
      "text/plain": [
       "array([[72.67056 ],\n",
       "       [63.907776],\n",
       "       [65.34472 ],\n",
       "       [63.275723],\n",
       "       [55.818703],\n",
       "       [58.631363],\n",
       "       [61.54275 ],\n",
       "       [60.853806],\n",
       "       [58.806637],\n",
       "       [56.18883 ],\n",
       "       [58.57058 ],\n",
       "       [71.43743 ],\n",
       "       [65.105064],\n",
       "       [68.32391 ],\n",
       "       [58.903458],\n",
       "       [52.817814],\n",
       "       [52.621593],\n",
       "       [58.141502],\n",
       "       [57.144634],\n",
       "       [55.44513 ],\n",
       "       [57.85597 ],\n",
       "       [60.63201 ],\n",
       "       [60.958664],\n",
       "       [55.953075],\n",
       "       [56.086124],\n",
       "       [55.029453],\n",
       "       [46.689606],\n",
       "       [56.293564],\n",
       "       [63.083607],\n",
       "       [60.441437],\n",
       "       [57.671494],\n",
       "       [56.0105  ],\n",
       "       [56.167168],\n",
       "       [64.270706],\n",
       "       [62.89753 ],\n",
       "       [61.807087],\n",
       "       [62.758865],\n",
       "       [57.479515],\n",
       "       [54.155457],\n",
       "       [51.79659 ],\n",
       "       [60.091557],\n",
       "       [59.852406],\n",
       "       [57.29252 ],\n",
       "       [46.05903 ],\n",
       "       [42.07336 ],\n",
       "       [45.592022],\n",
       "       [47.96439 ],\n",
       "       [49.9647  ],\n",
       "       [58.990498],\n",
       "       [51.527794],\n",
       "       [51.166424],\n",
       "       [47.555656],\n",
       "       [41.907074],\n",
       "       [41.655777],\n",
       "       [40.410053],\n",
       "       [40.314533],\n",
       "       [44.080948],\n",
       "       [36.0511  ],\n",
       "       [32.550526],\n",
       "       [34.590298],\n",
       "       [37.23056 ],\n",
       "       [36.40226 ],\n",
       "       [33.58465 ],\n",
       "       [30.725666],\n",
       "       [34.406525],\n",
       "       [35.472584],\n",
       "       [29.797663],\n",
       "       [26.196552],\n",
       "       [26.609613],\n",
       "       [25.3931  ],\n",
       "       [25.086887],\n",
       "       [29.068804],\n",
       "       [31.794281],\n",
       "       [26.710018],\n",
       "       [25.089575],\n",
       "       [24.583456],\n",
       "       [22.844868],\n",
       "       [22.668549],\n",
       "       [22.996918],\n",
       "       [24.508266],\n",
       "       [27.24543 ],\n",
       "       [22.659735],\n",
       "       [22.858591],\n",
       "       [24.460987],\n",
       "       [23.227573],\n",
       "       [19.737411],\n",
       "       [27.097181],\n",
       "       [29.27185 ],\n",
       "       [36.583725],\n",
       "       [34.1405  ],\n",
       "       [34.02367 ],\n",
       "       [33.790962],\n",
       "       [37.13755 ],\n",
       "       [37.128006],\n",
       "       [44.78117 ],\n",
       "       [38.286297],\n",
       "       [30.129078],\n",
       "       [32.1327  ],\n",
       "       [30.884466],\n",
       "       [26.59357 ],\n",
       "       [27.3816  ],\n",
       "       [28.537022],\n",
       "       [37.433887],\n",
       "       [40.640213],\n",
       "       [41.554985],\n",
       "       [41.28322 ],\n",
       "       [43.821854],\n",
       "       [48.371674],\n",
       "       [43.775692],\n",
       "       [42.706745],\n",
       "       [30.254541],\n",
       "       [37.035873],\n",
       "       [52.387367],\n",
       "       [66.07204 ],\n",
       "       [47.311527],\n",
       "       [42.149837],\n",
       "       [37.593113],\n",
       "       [41.36579 ],\n",
       "       [42.56398 ],\n",
       "       [49.53973 ],\n",
       "       [45.00402 ],\n",
       "       [54.92508 ],\n",
       "       [44.081184],\n",
       "       [43.557434],\n",
       "       [42.325375],\n",
       "       [48.21278 ],\n",
       "       [39.08527 ],\n",
       "       [43.04842 ],\n",
       "       [51.893852],\n",
       "       [47.141376],\n",
       "       [48.958626],\n",
       "       [49.768055],\n",
       "       [48.67184 ],\n",
       "       [50.83381 ],\n",
       "       [67.004074],\n",
       "       [56.696022],\n",
       "       [57.04332 ],\n",
       "       [50.659435],\n",
       "       [47.55033 ],\n",
       "       [54.739906],\n",
       "       [55.70331 ],\n",
       "       [58.46394 ],\n",
       "       [69.104744],\n",
       "       [55.547935],\n",
       "       [58.063236],\n",
       "       [68.56831 ],\n",
       "       [72.83169 ],\n",
       "       [70.91756 ],\n",
       "       [70.30583 ],\n",
       "       [65.01097 ],\n",
       "       [62.646374],\n",
       "       [62.38939 ],\n",
       "       [72.74116 ],\n",
       "       [63.523354],\n",
       "       [64.372284],\n",
       "       [69.22849 ],\n",
       "       [75.17098 ],\n",
       "       [71.01266 ],\n",
       "       [75.21648 ],\n",
       "       [72.83413 ],\n",
       "       [86.74297 ],\n",
       "       [77.777695],\n",
       "       [84.21737 ],\n",
       "       [65.63702 ],\n",
       "       [61.782127],\n",
       "       [60.236984],\n",
       "       [59.489105],\n",
       "       [66.6738  ],\n",
       "       [70.21243 ],\n",
       "       [66.6493  ],\n",
       "       [77.18427 ],\n",
       "       [80.341515],\n",
       "       [74.07979 ],\n",
       "       [85.038055],\n",
       "       [82.89221 ],\n",
       "       [76.414375],\n",
       "       [79.482895],\n",
       "       [69.603226],\n",
       "       [64.81744 ],\n",
       "       [65.666855],\n",
       "       [63.52422 ],\n",
       "       [74.702805],\n",
       "       [63.99405 ],\n",
       "       [62.776707],\n",
       "       [69.94186 ],\n",
       "       [68.39715 ],\n",
       "       [83.31891 ],\n",
       "       [76.511665],\n",
       "       [71.74323 ],\n",
       "       [78.57815 ],\n",
       "       [64.91826 ],\n",
       "       [66.30734 ],\n",
       "       [71.098305],\n",
       "       [76.17875 ],\n",
       "       [65.92455 ],\n",
       "       [65.92457 ],\n",
       "       [67.12224 ],\n",
       "       [64.82142 ],\n",
       "       [68.43811 ],\n",
       "       [75.15236 ],\n",
       "       [68.384415],\n",
       "       [70.5439  ],\n",
       "       [67.54711 ],\n",
       "       [64.880486],\n",
       "       [78.264626],\n",
       "       [71.462456],\n",
       "       [83.24769 ],\n",
       "       [79.031685],\n",
       "       [67.849106],\n",
       "       [63.13429 ],\n",
       "       [61.278732],\n",
       "       [62.076412],\n",
       "       [57.55927 ],\n",
       "       [59.407024],\n",
       "       [58.961174],\n",
       "       [57.43252 ],\n",
       "       [58.244205],\n",
       "       [56.409477],\n",
       "       [55.513054],\n",
       "       [56.480553],\n",
       "       [66.55059 ],\n",
       "       [57.159992],\n",
       "       [56.73818 ],\n",
       "       [56.848507],\n",
       "       [57.511864],\n",
       "       [57.928127],\n",
       "       [53.80478 ],\n",
       "       [57.66373 ],\n",
       "       [64.09429 ],\n",
       "       [62.250713],\n",
       "       [62.804146],\n",
       "       [59.723835],\n",
       "       [59.128548],\n",
       "       [57.00469 ],\n",
       "       [55.29375 ],\n",
       "       [59.96448 ],\n",
       "       [58.04009 ],\n",
       "       [60.029064],\n",
       "       [59.726257],\n",
       "       [58.014767],\n",
       "       [66.12809 ],\n",
       "       [66.92337 ],\n",
       "       [61.46097 ],\n",
       "       [58.579185],\n",
       "       [57.502224],\n",
       "       [58.59796 ],\n",
       "       [52.394688],\n",
       "       [52.51729 ],\n",
       "       [49.41584 ],\n",
       "       [46.71447 ],\n",
       "       [49.150173],\n",
       "       [53.43062 ],\n",
       "       [49.765205],\n",
       "       [49.09207 ],\n",
       "       [48.340187],\n",
       "       [48.73709 ],\n",
       "       [47.54429 ],\n",
       "       [49.403915],\n",
       "       [48.619358],\n",
       "       [52.63743 ],\n",
       "       [49.899418],\n",
       "       [52.329136],\n",
       "       [53.569283],\n",
       "       [56.037   ],\n",
       "       [55.61826 ],\n",
       "       [58.907738],\n",
       "       [65.36191 ],\n",
       "       [61.692875],\n",
       "       [56.35045 ],\n",
       "       [62.71847 ],\n",
       "       [57.762306],\n",
       "       [57.254837],\n",
       "       [63.815285],\n",
       "       [61.145588],\n",
       "       [52.019176],\n",
       "       [53.19067 ],\n",
       "       [51.16604 ],\n",
       "       [51.318058],\n",
       "       [53.927574],\n",
       "       [56.55592 ],\n",
       "       [54.49139 ],\n",
       "       [58.183445],\n",
       "       [54.136036],\n",
       "       [52.513966],\n",
       "       [51.489025],\n",
       "       [52.911434],\n",
       "       [58.158062],\n",
       "       [57.209328],\n",
       "       [57.709267],\n",
       "       [50.08732 ],\n",
       "       [51.380096],\n",
       "       [51.405445],\n",
       "       [36.448635],\n",
       "       [36.87566 ],\n",
       "       [37.31732 ],\n",
       "       [39.45478 ],\n",
       "       [51.093678],\n",
       "       [71.29833 ],\n",
       "       [71.83586 ],\n",
       "       [65.702354],\n",
       "       [49.78384 ],\n",
       "       [54.04243 ],\n",
       "       [55.505684],\n",
       "       [66.0689  ],\n",
       "       [68.597885],\n",
       "       [67.561935],\n",
       "       [63.99505 ],\n",
       "       [76.732864],\n",
       "       [64.52087 ],\n",
       "       [62.291935],\n",
       "       [61.724903],\n",
       "       [59.028786],\n",
       "       [57.645782],\n",
       "       [62.64861 ],\n",
       "       [62.02216 ],\n",
       "       [62.70121 ],\n",
       "       [56.026142],\n",
       "       [50.71657 ],\n",
       "       [55.0119  ],\n",
       "       [57.30508 ],\n",
       "       [70.08984 ],\n",
       "       [71.45003 ],\n",
       "       [84.17642 ],\n",
       "       [66.234116],\n",
       "       [64.499954],\n",
       "       [65.897705],\n",
       "       [82.345215],\n",
       "       [80.772736],\n",
       "       [79.12516 ],\n",
       "       [91.10889 ],\n",
       "       [76.76193 ],\n",
       "       [73.81539 ],\n",
       "       [78.92342 ],\n",
       "       [68.655556],\n",
       "       [74.30576 ],\n",
       "       [76.80233 ],\n",
       "       [89.87566 ],\n",
       "       [76.17681 ],\n",
       "       [77.11593 ],\n",
       "       [70.141396],\n",
       "       [71.53611 ],\n",
       "       [73.2198  ],\n",
       "       [66.71693 ],\n",
       "       [73.11598 ],\n",
       "       [70.463356],\n",
       "       [75.31304 ],\n",
       "       [79.16386 ],\n",
       "       [73.300575],\n",
       "       [71.94489 ],\n",
       "       [65.51298 ],\n",
       "       [69.93693 ],\n",
       "       [73.54859 ],\n",
       "       [72.54765 ],\n",
       "       [66.340614],\n",
       "       [68.61612 ],\n",
       "       [86.149704],\n",
       "       [70.43374 ],\n",
       "       [78.27879 ],\n",
       "       [76.330154],\n",
       "       [73.50327 ],\n",
       "       [73.028824],\n",
       "       [75.40363 ],\n",
       "       [65.44767 ],\n",
       "       [76.24814 ],\n",
       "       [73.89444 ],\n",
       "       [74.145905],\n",
       "       [67.71453 ],\n",
       "       [64.01716 ],\n",
       "       [68.01825 ],\n",
       "       [67.265434],\n",
       "       [69.75285 ],\n",
       "       [63.06416 ],\n",
       "       [68.68608 ],\n",
       "       [65.16863 ],\n",
       "       [64.27063 ],\n",
       "       [65.987175],\n",
       "       [57.25243 ],\n",
       "       [63.745014],\n",
       "       [67.97249 ],\n",
       "       [63.590466],\n",
       "       [59.404556],\n",
       "       [67.01706 ],\n",
       "       [56.713993],\n",
       "       [46.952915],\n",
       "       [45.02419 ],\n",
       "       [52.058987],\n",
       "       [58.011677],\n",
       "       [56.693928],\n",
       "       [51.39321 ],\n",
       "       [48.637337],\n",
       "       [53.268093],\n",
       "       [44.454613],\n",
       "       [44.669334],\n",
       "       [43.123573],\n",
       "       [43.65475 ],\n",
       "       [42.68201 ],\n",
       "       [50.598297],\n",
       "       [62.88465 ],\n",
       "       [60.83877 ],\n",
       "       [55.71838 ],\n",
       "       [53.771893],\n",
       "       [48.964954],\n",
       "       [54.646107],\n",
       "       [53.435658],\n",
       "       [49.423203],\n",
       "       [57.417072],\n",
       "       [47.143433],\n",
       "       [51.689945],\n",
       "       [53.356644],\n",
       "       [49.015686],\n",
       "       [46.064484],\n",
       "       [49.42845 ],\n",
       "       [40.601227],\n",
       "       [41.295643],\n",
       "       [39.478416],\n",
       "       [40.126724],\n",
       "       [41.27756 ],\n",
       "       [36.64819 ],\n",
       "       [37.67383 ],\n",
       "       [38.054096],\n",
       "       [36.078697],\n",
       "       [34.744843],\n",
       "       [31.67763 ],\n",
       "       [32.622112],\n",
       "       [42.638603],\n",
       "       [29.233946],\n",
       "       [30.39635 ],\n",
       "       [30.219189],\n",
       "       [24.49711 ],\n",
       "       [22.298386],\n",
       "       [20.62474 ],\n",
       "       [25.568455],\n",
       "       [28.199081],\n",
       "       [34.128166],\n",
       "       [29.626335],\n",
       "       [31.716402],\n",
       "       [35.025085],\n",
       "       [27.885859],\n",
       "       [25.041903],\n",
       "       [27.08103 ],\n",
       "       [35.720917],\n",
       "       [37.63094 ],\n",
       "       [28.591097]], dtype=float32)"
      ]
     },
     "execution_count": 26,
     "metadata": {},
     "output_type": "execute_result"
    }
   ],
   "source": [
    "inv_predictions = scaler.inverse_transform(predictions)"
   ]
  },
  {
   "cell_type": "code",
   "execution_count": 27,
   "metadata": {},
   "outputs": [],
   "source": [
    "inv_y_test = scaler.inverse_transform(y_test)"
   ]
  },
  {
   "cell_type": "code",
   "execution_count": 28,
   "metadata": {},
   "outputs": [],
   "source": [
    "rmse = np.sqrt(np.mean( (inv_predictions - inv_y_test)**2))"
   ]
  },
  {
   "cell_type": "code",
   "execution_count": 29,
   "metadata": {},
   "outputs": [
    {
     "data": {
      "text/plain": [
       "7.368202202968044"
      ]
     },
     "execution_count": 29,
     "metadata": {},
     "output_type": "execute_result"
    }
   ],
   "source": [
    "rmse"
   ]
  },
  {
   "cell_type": "code",
   "execution_count": null,
   "metadata": {},
   "outputs": [],
   "source": []
  }
 ],
 "metadata": {
  "kernelspec": {
   "display_name": "Python 3",
   "language": "python",
   "name": "python3"
  },
  "language_info": {
   "codemirror_mode": {
    "name": "ipython",
    "version": 3
   },
   "file_extension": ".py",
   "mimetype": "text/x-python",
   "name": "python",
   "nbconvert_exporter": "python",
   "pygments_lexer": "ipython3",
   "version": "3.12.2"
  }
 },
 "nbformat": 4,
 "nbformat_minor": 2
}
